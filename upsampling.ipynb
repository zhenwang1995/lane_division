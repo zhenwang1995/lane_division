{
 "cells": [
  {
   "cell_type": "code",
   "execution_count": 12,
   "metadata": {
    "colab": {
     "base_uri": "https://localhost:8080/",
     "height": 350
    },
    "id": "NgAj86C9kfG2",
    "outputId": "fc65a8c8-7a4e-4b49-afd8-5ee8f0a36fa1"
   },
   "outputs": [],
   "source": [
    "import cv2\n",
    "import numpy as np\n",
    "img = cv2.imread('cat.png')\n",
    "cv2.imshow('show', img)\n",
    "cv2.waitKey(0)\n",
    "cv2.destroyAllWindows()"
   ]
  },
  {
   "cell_type": "code",
   "execution_count": 13,
   "metadata": {
    "colab": {
     "base_uri": "https://localhost:8080/",
     "height": 683
    },
    "id": "b0Zo9Q0BTHz9",
    "outputId": "5d23a2f8-6c67-49ac-a253-79eb9116f2e1"
   },
   "outputs": [],
   "source": [
    "def unpooling(src, scale):\n",
    "  assert isinstance(scale, int)\n",
    "  src_h, src_w, channel = src.shape\n",
    "  dst_h = src_h * scale\n",
    "  dst_w = src_w * scale\n",
    "  dst = np.zeros((dst_h, dst_w, channel), dtype=src.dtype)\n",
    "  dst[::scale, ::scale] = src\n",
    "  return dst\n",
    "\n",
    "img_u = unpooling(img, 2)\n",
    "cv2.imshow('show', img_u)\n",
    "cv2.waitKey(0)\n",
    "cv2.destroyAllWindows()"
   ]
  },
  {
   "cell_type": "code",
   "execution_count": 14,
   "metadata": {
    "colab": {
     "base_uri": "https://localhost:8080/",
     "height": 529
    },
    "id": "0gl-f64nlXtR",
    "outputId": "5aaf2f7e-d80f-4883-e03c-e9aea55c8bdb"
   },
   "outputs": [],
   "source": [
    "def nearest_interpolation(src, dst_size):\n",
    "  src_h, src_w, channel = src.shape\n",
    "  dst_w, dst_h = dst_size\n",
    "  x_scale = dst_w / src_w\n",
    "  y_scale = dst_h / src_h\n",
    "  dst = np.zeros((dst_h, dst_w, channel), dtype=src.dtype)\n",
    "  for c in range(channel):\n",
    "    for dst_x in range(dst_w):\n",
    "      for dst_y in range(dst_h):\n",
    "        # 计算目标图的当前坐标在源图像中的位置\n",
    "        # 数学关系：src_x + 0.5 = (dst_x + 0.5) / x_scale\n",
    "        src_x = int(round((dst_x + 0.5) / x_scale - 0.5))\n",
    "        src_y = int(round((dst_y + 0.5) / y_scale - 0.5))\n",
    "        src_x = src_x if src_x > 0 else 0\n",
    "        src_x = src_x if src_x < src_w else src_w - 1\n",
    "        src_y = src_y if src_y > 0 else 0\n",
    "        src_y = src_y if src_y < src_h else src_h - 1\n",
    "        dst[dst_y, dst_x, c] = src[src_y, src_x, c]\n",
    "  return dst\n",
    "\n",
    "img_n = nearest_interpolation(img, (512, 512))\n",
    "cv2.imshow('show', img_n)\n",
    "cv2.waitKey(0)\n",
    "cv2.destroyAllWindows()"
   ]
  },
  {
   "cell_type": "code",
   "execution_count": 16,
   "metadata": {
    "colab": {
     "base_uri": "https://localhost:8080/",
     "height": 529
    },
    "id": "AEcdg2qJw6_i",
    "outputId": "c20108d9-554f-4b76-da5d-768e006f2160"
   },
   "outputs": [],
   "source": [
    "def nearest_interpolation_v1(src, dst_size):\n",
    "  src_h, src_w, channel = src.shape\n",
    "  dst_w, dst_h = dst_size\n",
    "  x_scale = dst_w / src_w\n",
    "  y_scale = dst_h / src_h\n",
    "  dst = np.zeros((dst_h, dst_w, channel), dtype=src.dtype)\n",
    "  for dst_x in range(dst_w):\n",
    "    for dst_y in range(dst_h):\n",
    "      src_x = int(round((dst_x + 0.5) / x_scale - 0.5))\n",
    "      src_y = int(round((dst_y + 0.5) / y_scale - 0.5))\n",
    "      src_x = src_x if src_x > 0 else 0\n",
    "      src_x = src_x if src_x < src_w else src_w - 1\n",
    "      src_y = src_y if src_y > 0 else 0\n",
    "      src_y = src_y if src_y < src_h else src_h - 1\n",
    "      dst[dst_y, dst_x] = src[src_y, src_x]\n",
    "  return dst\n",
    "\n",
    "img_n1 = nearest_interpolation_v1(img, (512, 512))\n",
    "cv2.imshow('show', img_n1)\n",
    "cv2.waitKey(0)\n",
    "cv2.destroyAllWindows()"
   ]
  },
  {
   "cell_type": "code",
   "execution_count": 15,
   "metadata": {
    "colab": {
     "base_uri": "https://localhost:8080/",
     "height": 529
    },
    "id": "QNtQkuP9zd_c",
    "outputId": "e4bd225c-4cfe-4b54-a324-a9d213b7f31b"
   },
   "outputs": [],
   "source": [
    "def nearest_interpolation_v2(src, dst_size):\n",
    "  src_h, src_w, channel = src.shape\n",
    "  dst_w, dst_h = dst_size\n",
    "  x_scale = dst_w / src_w\n",
    "  y_scale = dst_h / src_h\n",
    "    #网格化的操作\n",
    "  dst_y, dst_x = np.mgrid[:dst_h, :dst_w]\n",
    "  src_x = np.around((dst_x + 0.5) / x_scale - 0.5).astype(np.int64)\n",
    "  src_y = np.around((dst_y + 0.5) / y_scale - 0.5).astype(np.int64)\n",
    "  src_x = np.clip(src_x, 0, src_w-1)\n",
    "  src_y = np.clip(src_y, 0, src_h-1)\n",
    "  dst = src[src_y, src_x].copy()\n",
    "  return dst\n",
    "\n",
    "img_n2 = nearest_interpolation_v2(img, (512, 512))\n",
    "cv2.imshow('show', img_n2)\n",
    "cv2.waitKey(0)\n",
    "cv2.destroyAllWindows()"
   ]
  },
  {
   "cell_type": "code",
   "execution_count": 20,
   "metadata": {
    "colab": {
     "base_uri": "https://localhost:8080/"
    },
    "id": "-dYsrEu96hBt",
    "outputId": "5250cc6e-20cb-439c-f257-f142741f373b"
   },
   "outputs": [
    {
     "name": "stdout",
     "output_type": "stream",
     "text": [
      "Difference 0-1:  0\n",
      "Difference 0-2:  0\n",
      "Difference 1-2:  0\n",
      "v0: 1.221456\n",
      "v1: 0.519198\n",
      "v2: 0.041917\n"
     ]
    }
   ],
   "source": [
    "import time\n",
    "t1 = time.time()\n",
    "img_n0 = nearest_interpolation(img, (512, 512))\n",
    "t2 = time.time()\n",
    "img_n1 = nearest_interpolation_v1(img, (512, 512))\n",
    "t3 = time.time()\n",
    "img_n2 = nearest_interpolation_v2(img, (512, 512))\n",
    "t4 = time.time()\n",
    "print('Difference 0-1: ', ((img_n0 - img_n1)**2).sum())\n",
    "print('Difference 0-2: ', ((img_n0 - img_n2)**2).sum())\n",
    "print('Difference 1-2: ', ((img_n1 - img_n2)**2).sum())\n",
    "print('v0: %.6f' % (t2 - t1))\n",
    "print('v1: %.6f' % (t3 - t2))\n",
    "print('v2: %.6f' % (t4 - t3))"
   ]
  },
  {
   "cell_type": "code",
   "execution_count": 23,
   "metadata": {
    "colab": {
     "base_uri": "https://localhost:8080/",
     "height": 529
    },
    "id": "-U_eGj8NoJ9I",
    "outputId": "46823bc6-bfb1-429c-cf61-8223389850d1"
   },
   "outputs": [],
   "source": [
    "def bilinear_interpolation(src, dst_size):\n",
    "  src_h, src_w, channel = src.shape\n",
    "  dst_w, dst_h = dst_size\n",
    "  x_scale = dst_w / src_w\n",
    "  y_scale = dst_h / src_h\n",
    "  dst = np.zeros((dst_h, dst_w, channel), dtype=src.dtype)\n",
    "  for c in range(channel):\n",
    "    for dst_x in range(dst_w):\n",
    "      for dst_y in range(dst_h):\n",
    "        src_x = (dst_x + 0.5) / x_scale - 0.5\n",
    "        src_y = (dst_y + 0.5) / y_scale - 0.5\n",
    "\n",
    "        src_x1 = int(src_x)\n",
    "        src_y1 = int(src_y)\n",
    "        src_x2 = src_x1 + 1\n",
    "        src_y2 = src_y1 + 1\n",
    "\n",
    "        def clip(v, vmin, vmax):\n",
    "          v = v if v >= vmin else vmin\n",
    "          v = v if v <= vmax else vmax\n",
    "          return v\n",
    "\n",
    "        src_x1 = clip(src_x1, 0, src_w-1)\n",
    "        src_x2 = clip(src_x2, 0, src_w-1)\n",
    "        src_y1 = clip(src_y1, 0, src_h-1)\n",
    "        src_y2 = clip(src_y2, 0, src_h-1)\n",
    "        \n",
    "        y1_value = (src_x - src_x1) * src[src_y1, src_x2, c] + (src_x2 - src_x) * src[src_y1, src_x1, c]\n",
    "        y2_value = (src_x - src_x1) * src[src_y2, src_x2, c] + (src_x2 - src_x) * src[src_y2, src_x1, c]\n",
    "        dst[dst_y, dst_x, c] = (src_y - src_y1) * y2_value + (src_y2 - src_y) * y1_value\n",
    "  return dst\n",
    "\n",
    "img_b1 = bilinear_interpolation(img, (512, 512))\n",
    "cmp_img = np.concatenate([img_n2, img_b], axis=1)\n",
    "cv2.imshow('show', cmp_img)\n",
    "cv2.waitKey(0)\n",
    "cv2.destroyAllWindows()"
   ]
  },
  {
   "cell_type": "code",
   "execution_count": 24,
   "metadata": {},
   "outputs": [
    {
     "name": "stdout",
     "output_type": "stream",
     "text": [
      "(512, 512, 3)\n"
     ]
    },
    {
     "data": {
      "text/plain": [
       "-1"
      ]
     },
     "execution_count": 24,
     "metadata": {},
     "output_type": "execute_result"
    }
   ],
   "source": [
    "def bilinear_interpolation_v2(src, dst_size):\n",
    "    src_h,src_w,channel = src.shape\n",
    "    dst_h,dst_w = dst_size\n",
    "    x_scale = dst_w/src_w\n",
    "    y_scale = dst_h/src_h\n",
    "    dst = np.zeros((dst_h, dst_w, channel), dtype=src.dtype)\n",
    "    dst_y ,dst_x = np.mgrid[:dst_h , :dst_w]\n",
    "    src_x = (dst_x + 0.5)/x_scale -0.5\n",
    "#     src_x = np.expand_dims(src_x, axis=2)\n",
    "    src_y = (dst_y + 0.5)/y_scale -0.5\n",
    "#     src_y = np.expand_dims(src_y, axis=2)\n",
    "    src_x = np.clip(src_x, 0, src_w-1)\n",
    "    src_y = np.clip(src_y, 0, src_h-1)\n",
    "    src_x1 = np.clip(np.floor(src_x), 0, src_w - 2).astype(np.int)\n",
    "    src_y1 = np.clip(np.floor(src_y), 0, src_h - 2).astype(np.int)\n",
    "    src_x2 = src_x1 + 1\n",
    "    src_y2 = src_y1 + 1    \n",
    "    src_x1 = np.clip(src_x1, 0, src_w-1)\n",
    "    src_x2 = np.clip(src_x2, 0, src_w-1)\n",
    "    src_y1 = np.clip(src_y1, 0, src_h-1)\n",
    "    src_y2 = np.clip(src_y2, 0, src_h-1)\n",
    "    a = np.expand_dims((src_x2 - src_x),2)\n",
    "    b = np.expand_dims((src_x - src_x1),2)\n",
    "    c = np.expand_dims((src_y2 - src_y),2)\n",
    "    d = np.expand_dims((src_y - src_y1),2)\n",
    "    y1_value = b * src[src_y1, src_x2] + a * src[src_y1, src_x1]\n",
    "    y2_value = b * src[src_y2, src_x2] + a * src[src_y2, src_x1]\n",
    "    dst[dst_y,dst_x] = d * y2_value + c * (y1_value)\n",
    "    return dst\n",
    "img_b2 = bilinear_interpolation_v2(img, (512, 512))   \n",
    "print(img_b3.shape)\n",
    "cv2.imshow('show', img_b3)\n",
    "cv2.waitKey(0)"
   ]
  },
  {
   "cell_type": "code",
   "execution_count": 25,
   "metadata": {},
   "outputs": [
    {
     "name": "stdout",
     "output_type": "stream",
     "text": [
      "Difference 0-1:  0\n",
      "v0: 1.271600\n",
      "v1: 0.497669\n"
     ]
    }
   ],
   "source": [
    "import time\n",
    "t1 = time.time()\n",
    "img_b1 = nearest_interpolation(img, (512, 512))\n",
    "t2 = time.time()\n",
    "img_b2 = nearest_interpolation_v1(img, (512, 512))\n",
    "t3 = time.time()\n",
    "print('Difference 0-1: ', ((img_b1 - img_b2)**2).sum())\n",
    "print('v0: %.6f' % (t2 - t1))\n",
    "print('v1: %.6f' % (t3 - t2))"
   ]
  },
  {
   "cell_type": "code",
   "execution_count": null,
   "metadata": {},
   "outputs": [],
   "source": []
  }
 ],
 "metadata": {
  "colab": {
   "collapsed_sections": [],
   "name": "upsampling.ipynb",
   "provenance": []
  },
  "kernelspec": {
   "display_name": "Python 3",
   "language": "python",
   "name": "python3"
  },
  "language_info": {
   "codemirror_mode": {
    "name": "ipython",
    "version": 3
   },
   "file_extension": ".py",
   "mimetype": "text/x-python",
   "name": "python",
   "nbconvert_exporter": "python",
   "pygments_lexer": "ipython3",
   "version": "3.6.10"
  }
 },
 "nbformat": 4,
 "nbformat_minor": 1
}
